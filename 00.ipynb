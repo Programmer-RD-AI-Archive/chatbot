{
 "cells": [
  {
   "cell_type": "code",
   "execution_count": 1,
   "id": "00cde04b-c8ba-4562-af88-240f612a3200",
   "metadata": {},
   "outputs": [],
   "source": [
    "import wandb\n",
    "import nltk\n",
    "from nltk.stem.porter import *\n",
    "from torch.nn import *\n",
    "from torch.optim import *\n",
    "import numpy as np\n",
    "import pandas as pd\n",
    "import torch,torchvision\n",
    "import random\n",
    "from tqdm import *\n",
    "from torch.utils.data import Dataset,DataLoader\n",
    "stemmer = PorterStemmer()\n",
    "PROJECT_NAME = 'chatbot'\n",
    "device = 'cuda'"
   ]
  },
  {
   "cell_type": "code",
   "execution_count": 2,
   "id": "3b22c731-d112-45e5-94fc-0c9357c9091f",
   "metadata": {},
   "outputs": [],
   "source": [
    "def tokenize(sentence):\n",
    "    return nltk.word_tokenize(sentence.lower())"
   ]
  },
  {
   "cell_type": "code",
   "execution_count": 3,
   "id": "8d7b1328-c77d-40f4-9394-821a084de524",
   "metadata": {},
   "outputs": [
    {
     "data": {
      "text/plain": [
       "['$', '100']"
      ]
     },
     "execution_count": 3,
     "metadata": {},
     "output_type": "execute_result"
    }
   ],
   "source": [
    "tokenize('$100')"
   ]
  },
  {
   "cell_type": "code",
   "execution_count": 4,
   "id": "501fdfc6-971f-4148-b69f-3751ff57321f",
   "metadata": {},
   "outputs": [],
   "source": [
    "def stem(word):\n",
    "    return stemmer.stem(word.lower())"
   ]
  },
  {
   "cell_type": "code",
   "execution_count": 5,
   "id": "fcf52013-169b-497e-8747-d77a13e5edfd",
   "metadata": {},
   "outputs": [
    {
     "data": {
      "text/plain": [
       "'organ'"
      ]
     },
     "execution_count": 5,
     "metadata": {},
     "output_type": "execute_result"
    }
   ],
   "source": [
    "stem('organic')"
   ]
  },
  {
   "cell_type": "code",
   "execution_count": 6,
   "id": "0bd8a40c-2857-4536-bbb9-d7be6d0795a1",
   "metadata": {},
   "outputs": [],
   "source": [
    "def bag_of_words(tokenized_words,words):\n",
    "    tokenized_words = [stem(w) for w in tokenized_words]\n",
    "    bag = np.zeros(len(words))\n",
    "    for idx,w in enumerate(words):\n",
    "        if w in tokenized_words:\n",
    "            bag[idx] = 1.0\n",
    "    return bag"
   ]
  },
  {
   "cell_type": "code",
   "execution_count": 7,
   "id": "d6f29781-ff27-4831-ad1d-002f836322d1",
   "metadata": {},
   "outputs": [
    {
     "data": {
      "text/plain": [
       "array([1., 0., 1.])"
      ]
     },
     "execution_count": 7,
     "metadata": {},
     "output_type": "execute_result"
    }
   ],
   "source": [
    "bag_of_words(['hi'],['hi','how','hi'])"
   ]
  },
  {
   "cell_type": "code",
   "execution_count": 8,
   "id": "fdafe522-52fd-4dc7-974a-a3e9ca44ad05",
   "metadata": {},
   "outputs": [],
   "source": [
    "# data = pd.read_csv('./data.csv').sample(frac=1)[:3250]"
   ]
  },
  {
   "cell_type": "code",
   "execution_count": 9,
   "id": "3998530b-6a3d-41a2-916f-8835f6dcf6b5",
   "metadata": {},
   "outputs": [],
   "source": [
    "# data.to_csv('./cleaned-data.csv',index=False)"
   ]
  },
  {
   "cell_type": "code",
   "execution_count": 10,
   "id": "eaf85f97-02cb-4988-96f3-b6381d3b0731",
   "metadata": {},
   "outputs": [],
   "source": [
    "data = pd.read_json('./data.json')"
   ]
  },
  {
   "cell_type": "code",
   "execution_count": 11,
   "id": "c254427e-502e-4ca4-a225-6672b90549be",
   "metadata": {},
   "outputs": [
    {
     "data": {
      "text/plain": [
       "{'tag': 'greeting',\n",
       " 'patterns': ['Hi',\n",
       "  'Hey',\n",
       "  'How are you',\n",
       "  'Is anyone there?',\n",
       "  'Hello',\n",
       "  'Good day'],\n",
       " 'responses': ['Hey :-)',\n",
       "  'Hello, thanks for visiting',\n",
       "  'Hi there, what can I do for you?',\n",
       "  'Hi there, how can I help?']}"
      ]
     },
     "execution_count": 11,
     "metadata": {},
     "output_type": "execute_result"
    }
   ],
   "source": [
    "dict(data.iloc[0]['intents'])"
   ]
  },
  {
   "cell_type": "code",
   "execution_count": 12,
   "id": "9a569ea0-1fe2-4e5f-9275-78fd2579ea8e",
   "metadata": {},
   "outputs": [],
   "source": [
    "new_data = {'Question':[],'Tag':[]}\n",
    "responses = {'Tag':[],'Response':[]}"
   ]
  },
  {
   "cell_type": "code",
   "execution_count": 13,
   "id": "53bed457-9186-4bae-832b-bb5f66500914",
   "metadata": {},
   "outputs": [],
   "source": [
    "for i in range(len(data)):\n",
    "    info = data.iloc[i]['intents']\n",
    "    for q in list(info['patterns']):\n",
    "        new_data['Tag'].append(info['tag'])\n",
    "        new_data['Question'].append(q)\n",
    "    for r in list(info['responses']):\n",
    "        responses['Tag'].append(info['tag'])\n",
    "        responses['Response'].append(r)"
   ]
  },
  {
   "cell_type": "code",
   "execution_count": 14,
   "id": "4d15f73f-531e-4b4d-a79f-c3f6f81ac6cc",
   "metadata": {},
   "outputs": [],
   "source": [
    "data = pd.DataFrame(new_data)"
   ]
  },
  {
   "cell_type": "code",
   "execution_count": 15,
   "id": "c3bed852-1e27-494f-81c1-c1046b204f6f",
   "metadata": {},
   "outputs": [],
   "source": [
    "data.to_csv('./data.csv')"
   ]
  },
  {
   "cell_type": "code",
   "execution_count": 16,
   "id": "547e5814-7377-4c23-a3f0-6b1391d86358",
   "metadata": {},
   "outputs": [],
   "source": [
    "responses = pd.DataFrame(responses)"
   ]
  },
  {
   "cell_type": "code",
   "execution_count": 17,
   "id": "a8f8d298-9cb2-4293-8c9a-22e133a1e508",
   "metadata": {},
   "outputs": [],
   "source": [
    "X = data['Question']\n",
    "y = data['Tag']\n",
    "X_words = []\n",
    "labels = {}\n",
    "labels_r = {}\n",
    "idx = 0\n",
    "data = []"
   ]
  },
  {
   "cell_type": "code",
   "execution_count": 18,
   "id": "b4ac50f1-c46e-47bc-b585-67a28386c747",
   "metadata": {},
   "outputs": [],
   "source": [
    "for label in y:\n",
    "    if label not in list(labels.keys()):\n",
    "        idx += 1\n",
    "        labels[label] = idx\n",
    "        labels_r[idx] = label"
   ]
  },
  {
   "cell_type": "code",
   "execution_count": 19,
   "id": "152b6f57-55bd-4698-968c-340fab23beba",
   "metadata": {},
   "outputs": [
    {
     "data": {
      "text/plain": [
       "{'greeting': 1,\n",
       " 'goodbye': 2,\n",
       " 'thanks': 3,\n",
       " 'items': 4,\n",
       " 'payments': 5,\n",
       " 'delivery': 6,\n",
       " 'funny': 7}"
      ]
     },
     "execution_count": 19,
     "metadata": {},
     "output_type": "execute_result"
    }
   ],
   "source": [
    "labels"
   ]
  },
  {
   "cell_type": "code",
   "execution_count": 20,
   "id": "11a1a4d6-a887-43d2-b7d0-ed53fb4a3d39",
   "metadata": {},
   "outputs": [
    {
     "name": "stderr",
     "output_type": "stream",
     "text": [
      "26it [00:00, 6218.74it/s]\n"
     ]
    }
   ],
   "source": [
    "for X_batch,y_batch in tqdm(zip(X,y)):\n",
    "    X_batch = tokenize(X_batch)\n",
    "    new_X = []\n",
    "    for Xb in X_batch:\n",
    "        new_X.append(stem(Xb))\n",
    "    X_words.extend(new_X)\n",
    "    \n",
    "    data.append([\n",
    "        X_words,\n",
    "        labels[y_batch]-1\n",
    "    ])"
   ]
  },
  {
   "cell_type": "code",
   "execution_count": 21,
   "id": "a1755149-ef56-4e67-810a-a87d4ca7d537",
   "metadata": {},
   "outputs": [],
   "source": [
    "X_words = sorted(set(X_words))\n",
    "np.random.shuffle(data)"
   ]
  },
  {
   "cell_type": "code",
   "execution_count": 22,
   "id": "a6e5a85e-9dc2-438f-a1ab-70b16b6c61d7",
   "metadata": {},
   "outputs": [],
   "source": [
    "X = []\n",
    "y = []"
   ]
  },
  {
   "cell_type": "code",
   "execution_count": 23,
   "id": "81dc1db4-b804-47ca-9df8-20597fec746a",
   "metadata": {},
   "outputs": [
    {
     "name": "stderr",
     "output_type": "stream",
     "text": [
      "100%|██████████| 26/26 [00:00<00:00, 912.35it/s]\n"
     ]
    }
   ],
   "source": [
    "for input_sentence,output_sentence in tqdm(data):\n",
    "    X.append(bag_of_words(input_sentence,X_words))\n",
    "    y.append(output_sentence)"
   ]
  },
  {
   "cell_type": "code",
   "execution_count": 24,
   "id": "39003dad-6d7f-4634-806a-00478b3b99fa",
   "metadata": {},
   "outputs": [],
   "source": [
    "X_train = torch.from_numpy(np.array(X)).to(device).long()\n",
    "y_train = torch.from_numpy(np.array(y)).to(device).long()\n",
    "X_test = torch.from_numpy(np.array(X)).to(device).long()\n",
    "y_test = torch.from_numpy(np.array(X)).to(device).long()"
   ]
  },
  {
   "cell_type": "code",
   "execution_count": 25,
   "id": "8d31e399-6da9-418f-981f-0abc4741390b",
   "metadata": {},
   "outputs": [],
   "source": [
    "def get_loss(model,X,y,criterion):\n",
    "    preds = model(X)\n",
    "    loss = criterion(preds,y)\n",
    "    return loss.item()"
   ]
  },
  {
   "cell_type": "code",
   "execution_count": 26,
   "id": "3e1e6bc4-332b-4fb4-932c-76a8be59844e",
   "metadata": {},
   "outputs": [],
   "source": [
    "def get_accuracy(model,X,y,):\n",
    "    preds = model(X)\n",
    "    correct = 0\n",
    "    total = 0\n",
    "    for pred,yb in zip(preds,y):\n",
    "        pred = int(torch.argmax(pred))\n",
    "        yb = int(torch.argmax(yb))\n",
    "        if pred == yb:\n",
    "            correct += 1\n",
    "        total += 1\n",
    "    acc = round(correct/total,3)*100\n",
    "    return acc"
   ]
  },
  {
   "cell_type": "code",
   "execution_count": 70,
   "id": "e9119755-0468-4d19-8962-8461f4ac5243",
   "metadata": {},
   "outputs": [],
   "source": [
    "class Model(Module):\n",
    "    def __init__(self):\n",
    "        super().__init__()\n",
    "        self.hidden = 8\n",
    "        self.activation = ReLU()\n",
    "        self.batchnorm = BatchNorm1d(self.hidden)\n",
    "        self.linear1 = Linear(len(X_words),self.hidden)\n",
    "        self.linear2 = Linear(self.hidden,self.hidden)\n",
    "        self.linear3 = Linear(self.hidden,self.hidden)\n",
    "        self.linear4 = Linear(self.hidden,self.hidden)\n",
    "        self.linear5 = Linear(self.hidden,self.hidden)\n",
    "        self.output = Linear(self.hidden,len(labels)) # TODO trying adding 1 or -1\n",
    "    \n",
    "    def forward(self,X):\n",
    "        preds = self.linear1(X)\n",
    "        preds = self.activation(self.linear2(preds))\n",
    "        preds = self.activation(self.linear3(preds))\n",
    "        preds = self.activation(self.linear4(preds))\n",
    "        preds = self.activation(self.linear5(preds))\n",
    "        preds = self.output(preds)\n",
    "        return preds"
   ]
  },
  {
   "cell_type": "code",
   "execution_count": 71,
   "id": "aa4a98f8-f33a-4ede-8230-1968fdfe8da4",
   "metadata": {},
   "outputs": [],
   "source": [
    "model = Model().to(device)\n",
    "criterion = CrossEntropyLoss()\n",
    "optimizer = Adam(model.parameters(),lr=0.001)\n",
    "epochs = 1000\n",
    "batch_size = 8"
   ]
  },
  {
   "cell_type": "code",
   "execution_count": 72,
   "id": "22b06b2c-0309-4456-a171-73d81768fcd9",
   "metadata": {},
   "outputs": [
    {
     "data": {
      "text/html": [
       "Finishing last run (ID:1phxwve4) before initializing another..."
      ],
      "text/plain": [
       "<IPython.core.display.HTML object>"
      ]
     },
     "metadata": {},
     "output_type": "display_data"
    },
    {
     "data": {
      "text/html": [
       "<br/>Waiting for W&B process to finish, PID 153671... <strong style=\"color:green\">(success).</strong>"
      ],
      "text/plain": [
       "<IPython.core.display.HTML object>"
      ]
     },
     "metadata": {},
     "output_type": "display_data"
    },
    {
     "data": {
      "application/vnd.jupyter.widget-view+json": {
       "model_id": "",
       "version_major": 2,
       "version_minor": 0
      },
      "text/plain": [
       "VBox(children=(Label(value=' 0.07MB of 0.07MB uploaded (0.03MB deduped)\\r'), FloatProgress(value=1.0, max=1.0)…"
      ]
     },
     "metadata": {},
     "output_type": "display_data"
    },
    {
     "data": {
      "text/html": [
       "<style>\n",
       "    table.wandb td:nth-child(1) { padding: 0 10px; text-align: right }\n",
       "    .wandb-row { display: flex; flex-direction: row; flex-wrap: wrap; width: 100% }\n",
       "    .wandb-col { display: flex; flex-direction: column; flex-basis: 100%; flex: 1; padding: 10px; }\n",
       "    </style>\n",
       "<div class=\"wandb-row\"><div class=\"wandb-col\">\n",
       "</div><div class=\"wandb-col\">\n",
       "</div></div>\n",
       "Synced 6 W&B file(s), 0 media file(s), 2 artifact file(s) and 1 other file(s)\n",
       "<br/>Synced <strong style=\"color:#cdcd00\">baseline</strong>: <a href=\"https://wandb.ai/ranuga-d/chatbot/runs/1phxwve4\" target=\"_blank\">https://wandb.ai/ranuga-d/chatbot/runs/1phxwve4</a><br/>\n",
       "Find logs at: <code>./wandb/run-20211022_091649-1phxwve4/logs</code><br/>\n"
      ],
      "text/plain": [
       "<IPython.core.display.HTML object>"
      ]
     },
     "metadata": {},
     "output_type": "display_data"
    },
    {
     "data": {
      "text/html": [
       "Successfully finished last run (ID:1phxwve4). Initializing new run:<br/>"
      ],
      "text/plain": [
       "<IPython.core.display.HTML object>"
      ]
     },
     "metadata": {},
     "output_type": "display_data"
    },
    {
     "data": {
      "text/html": [
       "\n",
       "                    Syncing run <strong><a href=\"https://wandb.ai/ranuga-d/chatbot/runs/30f72mzp\" target=\"_blank\">baseline</a></strong> to <a href=\"https://wandb.ai/ranuga-d/chatbot\" target=\"_blank\">Weights & Biases</a> (<a href=\"https://docs.wandb.com/integrations/jupyter.html\" target=\"_blank\">docs</a>).<br/>\n",
       "\n",
       "                "
      ],
      "text/plain": [
       "<IPython.core.display.HTML object>"
      ]
     },
     "metadata": {},
     "output_type": "display_data"
    },
    {
     "name": "stderr",
     "output_type": "stream",
     "text": [
      "100%|██████████| 1000/1000 [00:05<00:00, 192.44it/s]\n"
     ]
    },
    {
     "data": {
      "text/html": [
       "<br/>Waiting for W&B process to finish, PID 154353... <strong style=\"color:green\">(success).</strong>"
      ],
      "text/plain": [
       "<IPython.core.display.HTML object>"
      ]
     },
     "metadata": {},
     "output_type": "display_data"
    },
    {
     "data": {
      "application/vnd.jupyter.widget-view+json": {
       "model_id": "",
       "version_major": 2,
       "version_minor": 0
      },
      "text/plain": [
       "VBox(children=(Label(value=' 0.00MB of 0.00MB uploaded (0.00MB deduped)\\r'), FloatProgress(value=1.0, max=1.0)…"
      ]
     },
     "metadata": {},
     "output_type": "display_data"
    },
    {
     "data": {
      "text/html": [
       "<style>\n",
       "    table.wandb td:nth-child(1) { padding: 0 10px; text-align: right }\n",
       "    .wandb-row { display: flex; flex-direction: row; flex-wrap: wrap; width: 100% }\n",
       "    .wandb-col { display: flex; flex-direction: column; flex-basis: 100%; flex: 1; padding: 10px; }\n",
       "    </style>\n",
       "<div class=\"wandb-row\"><div class=\"wandb-col\">\n",
       "<h3>Run history:</h3><br/><table class=\"wandb\"><tr><td>Acc</td><td>▁▁██████████████████████████████████████</td></tr><tr><td>Loss</td><td>█▆▃▁▁▁▁▁▁▁▁▁▁▁▁▁▁▁▁▁▁▁▁▁▁▁▁▁▁▁▁▁▁▁▁▁▁▁▁▁</td></tr><tr><td>Val Acc</td><td>▁▁██████████████████████████████████████</td></tr></table><br/></div><div class=\"wandb-col\">\n",
       "<h3>Run summary:</h3><br/><table class=\"wandb\"><tr><td>Acc</td><td>100.0</td></tr><tr><td>Loss</td><td>1.91101</td></tr><tr><td>Val Acc</td><td>100.0</td></tr></table>\n",
       "</div></div>\n",
       "Synced 6 W&B file(s), 0 media file(s), 0 artifact file(s) and 0 other file(s)\n",
       "<br/>Synced <strong style=\"color:#cdcd00\">baseline</strong>: <a href=\"https://wandb.ai/ranuga-d/chatbot/runs/30f72mzp\" target=\"_blank\">https://wandb.ai/ranuga-d/chatbot/runs/30f72mzp</a><br/>\n",
       "Find logs at: <code>./wandb/run-20211022_091722-30f72mzp/logs</code><br/>\n"
      ],
      "text/plain": [
       "<IPython.core.display.HTML object>"
      ]
     },
     "metadata": {},
     "output_type": "display_data"
    }
   ],
   "source": [
    "wandb.init(project=PROJECT_NAME,name='baseline')\n",
    "for _ in tqdm(range(epochs)):\n",
    "    preds = model(X_train.float())\n",
    "    loss = criterion(preds,y_train.long())\n",
    "    optimizer.zero_grad()\n",
    "    loss.backward()\n",
    "    optimizer.step()\n",
    "    torch.cuda.empty_cache()\n",
    "    wandb.log({'Loss':get_loss(model,X_train.float(),y_train,criterion)})\n",
    "    torch.cuda.empty_cache()\n",
    "#     wandb.log({'Val Loss':get_loss(model,X_test.float(),y_test,criterion)})\n",
    "    torch.cuda.empty_cache()\n",
    "    wandb.log({'Acc':get_accuracy(model,X_train.float(),y_train)})\n",
    "    torch.cuda.empty_cache()\n",
    "    wandb.log({'Val Acc':get_accuracy(model,X_test.float(),y_test)})\n",
    "    torch.cuda.empty_cache()\n",
    "wandb.finish()\n",
    "torch.cuda.empty_cache()"
   ]
  },
  {
   "cell_type": "code",
   "execution_count": 73,
   "id": "f28a07c2-363f-4867-aeab-c204bcc8ee48",
   "metadata": {},
   "outputs": [],
   "source": [
    "torch.save(model.to('cpu'),'model.pt')\n",
    "torch.save(model.to('cpu'),'model.pth')\n",
    "torch.save(model.to('cpu').state_dict(),'model-sd.pt')\n",
    "torch.save(model.to('cpu').state_dict(),'model-sd.pth')\n",
    "torch.save(X_words,'words.pt')\n",
    "torch.save(X_words,'words.pth')\n",
    "torch.save(data,'data.pt')\n",
    "torch.save(data,'data.pth')\n",
    "torch.save(labels,'labels.pt')\n",
    "torch.save(labels,'labels.pth')\n",
    "torch.save(labels_r,'labels_r.pt')\n",
    "torch.save(labels_r,'labels_r.pth')\n",
    "torch.save(idx,'idx.pt')\n",
    "torch.save(idx,'idx.pth')\n",
    "torch.save(y_train,'y_train.pt')\n",
    "torch.save(y_test,'y_test.pth')\n",
    "torch.save(y,'y.pt')\n",
    "torch.save(y,'y.pth')"
   ]
  },
  {
   "cell_type": "code",
   "execution_count": 74,
   "id": "a371bd30-bc66-4ddf-86fc-8f55f563328d",
   "metadata": {},
   "outputs": [
    {
     "data": {
      "text/plain": [
       "Model(\n",
       "  (activation): ReLU()\n",
       "  (batchnorm): BatchNorm1d(8, eps=1e-05, momentum=0.1, affine=True, track_running_stats=True)\n",
       "  (linear1): Linear(in_features=56, out_features=8, bias=True)\n",
       "  (linear2): Linear(in_features=8, out_features=8, bias=True)\n",
       "  (linear3): Linear(in_features=8, out_features=8, bias=True)\n",
       "  (linear4): Linear(in_features=8, out_features=8, bias=True)\n",
       "  (linear5): Linear(in_features=8, out_features=8, bias=True)\n",
       "  (output): Linear(in_features=8, out_features=7, bias=True)\n",
       ")"
      ]
     },
     "execution_count": 74,
     "metadata": {},
     "output_type": "execute_result"
    }
   ],
   "source": [
    "model.eval()\n",
    "# torch.argmax(model(torch.from_numpy(bag_of_words(['hi','how','are','you'],X_words)).float()))"
   ]
  },
  {
   "cell_type": "code",
   "execution_count": 75,
   "id": "5f5d3286-2e07-4106-8177-6665d02df8e4",
   "metadata": {},
   "outputs": [
    {
     "data": {
      "text/html": [
       "<div>\n",
       "<style scoped>\n",
       "    .dataframe tbody tr th:only-of-type {\n",
       "        vertical-align: middle;\n",
       "    }\n",
       "\n",
       "    .dataframe tbody tr th {\n",
       "        vertical-align: top;\n",
       "    }\n",
       "\n",
       "    .dataframe thead th {\n",
       "        text-align: right;\n",
       "    }\n",
       "</style>\n",
       "<table border=\"1\" class=\"dataframe\">\n",
       "  <thead>\n",
       "    <tr style=\"text-align: right;\">\n",
       "      <th></th>\n",
       "      <th>Tag</th>\n",
       "      <th>Response</th>\n",
       "    </tr>\n",
       "  </thead>\n",
       "  <tbody>\n",
       "    <tr>\n",
       "      <th>0</th>\n",
       "      <td>greeting</td>\n",
       "      <td>Hey :-)</td>\n",
       "    </tr>\n",
       "    <tr>\n",
       "      <th>1</th>\n",
       "      <td>greeting</td>\n",
       "      <td>Hello, thanks for visiting</td>\n",
       "    </tr>\n",
       "    <tr>\n",
       "      <th>2</th>\n",
       "      <td>greeting</td>\n",
       "      <td>Hi there, what can I do for you?</td>\n",
       "    </tr>\n",
       "    <tr>\n",
       "      <th>3</th>\n",
       "      <td>greeting</td>\n",
       "      <td>Hi there, how can I help?</td>\n",
       "    </tr>\n",
       "    <tr>\n",
       "      <th>4</th>\n",
       "      <td>goodbye</td>\n",
       "      <td>See you later, thanks for visiting</td>\n",
       "    </tr>\n",
       "    <tr>\n",
       "      <th>5</th>\n",
       "      <td>goodbye</td>\n",
       "      <td>Have a nice day</td>\n",
       "    </tr>\n",
       "    <tr>\n",
       "      <th>6</th>\n",
       "      <td>goodbye</td>\n",
       "      <td>Bye! Come back again soon.</td>\n",
       "    </tr>\n",
       "    <tr>\n",
       "      <th>7</th>\n",
       "      <td>thanks</td>\n",
       "      <td>Happy to help!</td>\n",
       "    </tr>\n",
       "    <tr>\n",
       "      <th>8</th>\n",
       "      <td>thanks</td>\n",
       "      <td>Any time!</td>\n",
       "    </tr>\n",
       "    <tr>\n",
       "      <th>9</th>\n",
       "      <td>thanks</td>\n",
       "      <td>My pleasure</td>\n",
       "    </tr>\n",
       "    <tr>\n",
       "      <th>10</th>\n",
       "      <td>items</td>\n",
       "      <td>We sell coffee and tea</td>\n",
       "    </tr>\n",
       "    <tr>\n",
       "      <th>11</th>\n",
       "      <td>items</td>\n",
       "      <td>We have coffee and tea</td>\n",
       "    </tr>\n",
       "    <tr>\n",
       "      <th>12</th>\n",
       "      <td>payments</td>\n",
       "      <td>We accept VISA, Mastercard and Paypal</td>\n",
       "    </tr>\n",
       "    <tr>\n",
       "      <th>13</th>\n",
       "      <td>payments</td>\n",
       "      <td>We accept most major credit cards, and Paypal</td>\n",
       "    </tr>\n",
       "    <tr>\n",
       "      <th>14</th>\n",
       "      <td>delivery</td>\n",
       "      <td>Delivery takes 2-4 days</td>\n",
       "    </tr>\n",
       "    <tr>\n",
       "      <th>15</th>\n",
       "      <td>delivery</td>\n",
       "      <td>Shipping takes 2-4 days</td>\n",
       "    </tr>\n",
       "    <tr>\n",
       "      <th>16</th>\n",
       "      <td>funny</td>\n",
       "      <td>Why did the hipster burn his mouth? He drank t...</td>\n",
       "    </tr>\n",
       "    <tr>\n",
       "      <th>17</th>\n",
       "      <td>funny</td>\n",
       "      <td>What did the buffalo say when his son left for...</td>\n",
       "    </tr>\n",
       "  </tbody>\n",
       "</table>\n",
       "</div>"
      ],
      "text/plain": [
       "         Tag                                           Response\n",
       "0   greeting                                            Hey :-)\n",
       "1   greeting                         Hello, thanks for visiting\n",
       "2   greeting                   Hi there, what can I do for you?\n",
       "3   greeting                          Hi there, how can I help?\n",
       "4    goodbye                 See you later, thanks for visiting\n",
       "5    goodbye                                    Have a nice day\n",
       "6    goodbye                         Bye! Come back again soon.\n",
       "7     thanks                                     Happy to help!\n",
       "8     thanks                                          Any time!\n",
       "9     thanks                                        My pleasure\n",
       "10     items                             We sell coffee and tea\n",
       "11     items                             We have coffee and tea\n",
       "12  payments              We accept VISA, Mastercard and Paypal\n",
       "13  payments      We accept most major credit cards, and Paypal\n",
       "14  delivery                            Delivery takes 2-4 days\n",
       "15  delivery                            Shipping takes 2-4 days\n",
       "16     funny  Why did the hipster burn his mouth? He drank t...\n",
       "17     funny  What did the buffalo say when his son left for..."
      ]
     },
     "execution_count": 75,
     "metadata": {},
     "output_type": "execute_result"
    }
   ],
   "source": [
    "responses"
   ]
  },
  {
   "cell_type": "code",
   "execution_count": 76,
   "id": "68d94616-0428-4367-b4f8-cca084d61d0d",
   "metadata": {},
   "outputs": [
    {
     "data": {
      "text/plain": [
       "Model(\n",
       "  (activation): ReLU()\n",
       "  (batchnorm): BatchNorm1d(8, eps=1e-05, momentum=0.1, affine=True, track_running_stats=True)\n",
       "  (linear1): Linear(in_features=56, out_features=8, bias=True)\n",
       "  (linear2): Linear(in_features=8, out_features=8, bias=True)\n",
       "  (linear3): Linear(in_features=8, out_features=8, bias=True)\n",
       "  (linear4): Linear(in_features=8, out_features=8, bias=True)\n",
       "  (linear5): Linear(in_features=8, out_features=8, bias=True)\n",
       "  (output): Linear(in_features=8, out_features=7, bias=True)\n",
       ")"
      ]
     },
     "execution_count": 76,
     "metadata": {},
     "output_type": "execute_result"
    }
   ],
   "source": [
    "model.train()"
   ]
  },
  {
   "cell_type": "code",
   "execution_count": 77,
   "id": "04fae470-2ddd-434b-8d73-598f79fbc8ac",
   "metadata": {},
   "outputs": [
    {
     "data": {
      "text/plain": [
       "torch.Size([56])"
      ]
     },
     "execution_count": 77,
     "metadata": {},
     "output_type": "execute_result"
    }
   ],
   "source": [
    "X_train[0].shape"
   ]
  },
  {
   "cell_type": "code",
   "execution_count": 78,
   "id": "d4b33f89-3f8b-495c-bac6-5574eca54ae8",
   "metadata": {},
   "outputs": [],
   "source": [
    "preds = model(X_train.cpu().float()) #[25].view(1,-1).to('cpu').float().to('cpu')"
   ]
  },
  {
   "cell_type": "code",
   "execution_count": 79,
   "id": "d468bb44-2f0d-48d1-b4f5-fde3117472af",
   "metadata": {},
   "outputs": [
    {
     "data": {
      "text/plain": [
       "tensor([[ 0.6446, -0.0477,  0.2397, -0.0476,  0.2393, -0.0481, -0.0476],\n",
       "        [ 0.6446, -0.0477,  0.2397, -0.0476,  0.2393, -0.0481, -0.0476],\n",
       "        [ 0.6446, -0.0477,  0.2397, -0.0476,  0.2393, -0.0481, -0.0476],\n",
       "        [ 0.6446, -0.0477,  0.2397, -0.0476,  0.2393, -0.0481, -0.0476],\n",
       "        [ 0.6446, -0.0477,  0.2397, -0.0476,  0.2393, -0.0481, -0.0476],\n",
       "        [ 0.6446, -0.0477,  0.2397, -0.0476,  0.2393, -0.0481, -0.0476],\n",
       "        [ 0.6446, -0.0477,  0.2397, -0.0476,  0.2393, -0.0481, -0.0476],\n",
       "        [ 0.6446, -0.0477,  0.2397, -0.0476,  0.2393, -0.0481, -0.0476],\n",
       "        [ 0.6446, -0.0477,  0.2397, -0.0476,  0.2393, -0.0481, -0.0476],\n",
       "        [ 0.6446, -0.0477,  0.2397, -0.0476,  0.2393, -0.0481, -0.0476],\n",
       "        [ 0.6446, -0.0477,  0.2397, -0.0476,  0.2393, -0.0481, -0.0476],\n",
       "        [ 0.6446, -0.0477,  0.2397, -0.0476,  0.2393, -0.0481, -0.0476],\n",
       "        [ 0.6446, -0.0477,  0.2397, -0.0476,  0.2393, -0.0481, -0.0476],\n",
       "        [ 0.6446, -0.0477,  0.2397, -0.0476,  0.2393, -0.0481, -0.0476],\n",
       "        [ 0.6446, -0.0477,  0.2397, -0.0476,  0.2393, -0.0481, -0.0476],\n",
       "        [ 0.6446, -0.0477,  0.2397, -0.0476,  0.2393, -0.0481, -0.0476],\n",
       "        [ 0.6446, -0.0477,  0.2397, -0.0476,  0.2393, -0.0481, -0.0476],\n",
       "        [ 0.6446, -0.0477,  0.2397, -0.0476,  0.2393, -0.0481, -0.0476],\n",
       "        [ 0.6446, -0.0477,  0.2397, -0.0476,  0.2393, -0.0481, -0.0476],\n",
       "        [ 0.6446, -0.0477,  0.2397, -0.0476,  0.2393, -0.0481, -0.0476],\n",
       "        [ 0.6446, -0.0477,  0.2397, -0.0476,  0.2393, -0.0481, -0.0476],\n",
       "        [ 0.6446, -0.0477,  0.2397, -0.0476,  0.2393, -0.0481, -0.0476],\n",
       "        [ 0.6446, -0.0477,  0.2397, -0.0476,  0.2393, -0.0481, -0.0476],\n",
       "        [ 0.6446, -0.0477,  0.2397, -0.0476,  0.2393, -0.0481, -0.0476],\n",
       "        [ 0.6446, -0.0477,  0.2397, -0.0476,  0.2393, -0.0481, -0.0476],\n",
       "        [ 0.6446, -0.0477,  0.2397, -0.0476,  0.2393, -0.0481, -0.0476]],\n",
       "       grad_fn=<AddmmBackward>)"
      ]
     },
     "execution_count": 79,
     "metadata": {},
     "output_type": "execute_result"
    }
   ],
   "source": [
    "preds"
   ]
  },
  {
   "cell_type": "code",
   "execution_count": 80,
   "id": "6caad818-a670-477b-bb9c-b86b64820be4",
   "metadata": {},
   "outputs": [
    {
     "data": {
      "text/plain": [
       "tensor([ 0.6446, -0.0477,  0.2397, -0.0476,  0.2393, -0.0481, -0.0476],\n",
       "       grad_fn=<SelectBackward>)"
      ]
     },
     "execution_count": 80,
     "metadata": {},
     "output_type": "execute_result"
    }
   ],
   "source": [
    "preds[0]"
   ]
  },
  {
   "cell_type": "code",
   "execution_count": 87,
   "id": "df9d011a-4a65-46f1-8e14-8d9fb2451d42",
   "metadata": {},
   "outputs": [
    {
     "name": "stderr",
     "output_type": "stream",
     "text": [
      "<ipython-input-87-7adf08b49648>:1: UserWarning: Implicit dimension choice for softmax has been deprecated. Change the call to include dim=X as an argument.\n",
      "  Softmax()(preds[2])\n"
     ]
    },
    {
     "data": {
      "text/plain": [
       "tensor([0.2307, 0.1154, 0.1539, 0.1154, 0.1538, 0.1154, 0.1154],\n",
       "       grad_fn=<SoftmaxBackward>)"
      ]
     },
     "execution_count": 87,
     "metadata": {},
     "output_type": "execute_result"
    }
   ],
   "source": [
    "Softmax()(preds[2])"
   ]
  },
  {
   "cell_type": "code",
   "execution_count": 82,
   "id": "2987921f-53b9-4a2c-80e3-863411f57288",
   "metadata": {},
   "outputs": [
    {
     "data": {
      "text/plain": [
       "Model(\n",
       "  (activation): ReLU()\n",
       "  (batchnorm): BatchNorm1d(8, eps=1e-05, momentum=0.1, affine=True, track_running_stats=True)\n",
       "  (linear1): Linear(in_features=56, out_features=8, bias=True)\n",
       "  (linear2): Linear(in_features=8, out_features=8, bias=True)\n",
       "  (linear3): Linear(in_features=8, out_features=8, bias=True)\n",
       "  (linear4): Linear(in_features=8, out_features=8, bias=True)\n",
       "  (linear5): Linear(in_features=8, out_features=8, bias=True)\n",
       "  (output): Linear(in_features=8, out_features=7, bias=True)\n",
       ")"
      ]
     },
     "execution_count": 82,
     "metadata": {},
     "output_type": "execute_result"
    }
   ],
   "source": [
    "model.eval()"
   ]
  },
  {
   "cell_type": "code",
   "execution_count": 83,
   "id": "1c3a77f2-08a4-4c7b-9b3f-de23f054e1e0",
   "metadata": {},
   "outputs": [],
   "source": [
    "preds = model(X_train.cpu().float()) #[25].view(1,-1).to('cpu').float().to('cpu')"
   ]
  },
  {
   "cell_type": "code",
   "execution_count": 84,
   "id": "1ca4f374-b91a-4d01-a68f-0c95dc8e9c96",
   "metadata": {},
   "outputs": [
    {
     "data": {
      "text/plain": [
       "tensor([[ 0.6446, -0.0477,  0.2397, -0.0476,  0.2393, -0.0481, -0.0476],\n",
       "        [ 0.6446, -0.0477,  0.2397, -0.0476,  0.2393, -0.0481, -0.0476],\n",
       "        [ 0.6446, -0.0477,  0.2397, -0.0476,  0.2393, -0.0481, -0.0476],\n",
       "        [ 0.6446, -0.0477,  0.2397, -0.0476,  0.2393, -0.0481, -0.0476],\n",
       "        [ 0.6446, -0.0477,  0.2397, -0.0476,  0.2393, -0.0481, -0.0476],\n",
       "        [ 0.6446, -0.0477,  0.2397, -0.0476,  0.2393, -0.0481, -0.0476],\n",
       "        [ 0.6446, -0.0477,  0.2397, -0.0476,  0.2393, -0.0481, -0.0476],\n",
       "        [ 0.6446, -0.0477,  0.2397, -0.0476,  0.2393, -0.0481, -0.0476],\n",
       "        [ 0.6446, -0.0477,  0.2397, -0.0476,  0.2393, -0.0481, -0.0476],\n",
       "        [ 0.6446, -0.0477,  0.2397, -0.0476,  0.2393, -0.0481, -0.0476],\n",
       "        [ 0.6446, -0.0477,  0.2397, -0.0476,  0.2393, -0.0481, -0.0476],\n",
       "        [ 0.6446, -0.0477,  0.2397, -0.0476,  0.2393, -0.0481, -0.0476],\n",
       "        [ 0.6446, -0.0477,  0.2397, -0.0476,  0.2393, -0.0481, -0.0476],\n",
       "        [ 0.6446, -0.0477,  0.2397, -0.0476,  0.2393, -0.0481, -0.0476],\n",
       "        [ 0.6446, -0.0477,  0.2397, -0.0476,  0.2393, -0.0481, -0.0476],\n",
       "        [ 0.6446, -0.0477,  0.2397, -0.0476,  0.2393, -0.0481, -0.0476],\n",
       "        [ 0.6446, -0.0477,  0.2397, -0.0476,  0.2393, -0.0481, -0.0476],\n",
       "        [ 0.6446, -0.0477,  0.2397, -0.0476,  0.2393, -0.0481, -0.0476],\n",
       "        [ 0.6446, -0.0477,  0.2397, -0.0476,  0.2393, -0.0481, -0.0476],\n",
       "        [ 0.6446, -0.0477,  0.2397, -0.0476,  0.2393, -0.0481, -0.0476],\n",
       "        [ 0.6446, -0.0477,  0.2397, -0.0476,  0.2393, -0.0481, -0.0476],\n",
       "        [ 0.6446, -0.0477,  0.2397, -0.0476,  0.2393, -0.0481, -0.0476],\n",
       "        [ 0.6446, -0.0477,  0.2397, -0.0476,  0.2393, -0.0481, -0.0476],\n",
       "        [ 0.6446, -0.0477,  0.2397, -0.0476,  0.2393, -0.0481, -0.0476],\n",
       "        [ 0.6446, -0.0477,  0.2397, -0.0476,  0.2393, -0.0481, -0.0476],\n",
       "        [ 0.6446, -0.0477,  0.2397, -0.0476,  0.2393, -0.0481, -0.0476]],\n",
       "       grad_fn=<AddmmBackward>)"
      ]
     },
     "execution_count": 84,
     "metadata": {},
     "output_type": "execute_result"
    }
   ],
   "source": [
    "preds"
   ]
  },
  {
   "cell_type": "code",
   "execution_count": 85,
   "id": "8550fb32-6b63-4365-a6ee-1e9b42463853",
   "metadata": {},
   "outputs": [
    {
     "data": {
      "text/plain": [
       "tensor(0)"
      ]
     },
     "execution_count": 85,
     "metadata": {},
     "output_type": "execute_result"
    }
   ],
   "source": [
    "torch.argmax(preds)"
   ]
  },
  {
   "cell_type": "code",
   "execution_count": 86,
   "id": "90455126-6688-4bdb-ae92-08692be2d51c",
   "metadata": {},
   "outputs": [],
   "source": [
    "responses.to_csv('./responses.csv')"
   ]
  },
  {
   "cell_type": "code",
   "execution_count": null,
   "id": "e62c13ae-ee84-4c99-bc46-dd25b6e216ad",
   "metadata": {},
   "outputs": [],
   "source": []
  }
 ],
 "metadata": {
  "kernelspec": {
   "display_name": "Python 3.8.8 64-bit ('base': conda)",
   "language": "python",
   "name": "python388jvsc74a57bd07338908a6901250255932625ba4b5c32a9d91564d69b39dc5095100e5c96b0b4"
  },
  "language_info": {
   "codemirror_mode": {
    "name": "ipython",
    "version": 3
   },
   "file_extension": ".py",
   "mimetype": "text/x-python",
   "name": "python",
   "nbconvert_exporter": "python",
   "pygments_lexer": "ipython3",
   "version": "3.8.8"
  }
 },
 "nbformat": 4,
 "nbformat_minor": 5
}
